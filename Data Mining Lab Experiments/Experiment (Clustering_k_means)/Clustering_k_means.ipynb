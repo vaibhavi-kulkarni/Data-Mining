{
  "nbformat": 4,
  "nbformat_minor": 0,
  "metadata": {
    "colab": {
      "provenance": []
    },
    "kernelspec": {
      "name": "python3",
      "display_name": "Python 3"
    },
    "language_info": {
      "name": "python"
    }
  },
  "cells": [
    {
      "cell_type": "code",
      "execution_count": null,
      "metadata": {
        "id": "5zw8lB9jKgur"
      },
      "outputs": [],
      "source": [
        "import numpy as np\n",
        "import pandas as pd\n",
        "import matplotlib.pyplot as plt"
      ]
    },
    {
      "cell_type": "code",
      "source": [
        "customers_data = pd.read_csv(\"Mall_Customers.csv\")"
      ],
      "metadata": {
        "id": "XpqwdIm5KpnH"
      },
      "execution_count": null,
      "outputs": []
    },
    {
      "cell_type": "markdown",
      "source": [],
      "metadata": {
        "id": "edX8KuB7CFSB"
      }
    },
    {
      "cell_type": "code",
      "source": [
        "customers_data = customers_data.drop('CustomerID', axis=1)"
      ],
      "metadata": {
        "id": "xXgq0kVSLE0G"
      },
      "execution_count": null,
      "outputs": []
    },
    {
      "cell_type": "code",
      "source": [
        "from sklearn.preprocessing import LabelEncoder"
      ],
      "metadata": {
        "id": "MGKqsiGjLJtj"
      },
      "execution_count": null,
      "outputs": []
    },
    {
      "cell_type": "code",
      "source": [
        "encode = LabelEncoder()\n",
        "encoded_sex = encode.fit_transform(customers_data.iloc[:, 0])\n",
        "print(encoded_sex)"
      ],
      "metadata": {
        "colab": {
          "base_uri": "https://localhost:8080/"
        },
        "id": "zR2Kej45LTsc",
        "outputId": "3ec9af78-c3e7-49f2-c018-9ebc5a3dd0ca"
      },
      "execution_count": null,
      "outputs": [
        {
          "output_type": "stream",
          "name": "stdout",
          "text": [
            "[1 1 0 0 0 0 0 0 1 0 1 0 0 0 1 1 0 1 1 0 1 1 0 1 0 1 0 1 0 0 1 0 1 1 0 0 0\n",
            " 0 0 0 0 1 1 0 0 0 0 0 0 0 0 1 0 1 0 1 0 1 0 1 1 1 0 0 1 1 0 0 1 0 1 0 0 0\n",
            " 1 1 0 1 0 0 1 1 1 0 0 1 0 0 0 0 0 1 1 0 0 1 0 0 1 1 0 0 1 1 1 0 0 1 1 1 1\n",
            " 0 0 1 0 0 0 0 0 0 1 0 0 1 0 0 1 1 1 1 1 1 0 0 1 0 0 1 1 0 0 1 0 0 1 1 1 0\n",
            " 0 1 1 1 0 0 0 0 1 0 1 0 0 0 1 0 1 0 1 0 0 1 1 1 1 1 0 0 1 1 1 1 0 0 1 0 0\n",
            " 1 0 1 0 0 0 0 1 0 0 0 0 1 1 1]\n"
          ]
        }
      ]
    },
    {
      "cell_type": "code",
      "source": [
        "customers_data['Gender'] = encoded_sex"
      ],
      "metadata": {
        "id": "dhK_pJfqOR7F"
      },
      "execution_count": null,
      "outputs": []
    },
    {
      "cell_type": "code",
      "source": [
        "customers_data.head()"
      ],
      "metadata": {
        "colab": {
          "base_uri": "https://localhost:8080/",
          "height": 206
        },
        "id": "aiRAp3PRLWnQ",
        "outputId": "9ce79506-cbcd-4f33-f5ea-1cd039e4660a"
      },
      "execution_count": null,
      "outputs": [
        {
          "output_type": "execute_result",
          "data": {
            "text/plain": [
              "   Gender  Age  Annual Income (k$)  Spending Score (1-100)\n",
              "0       1   19                  15                      39\n",
              "1       1   21                  15                      81\n",
              "2       0   20                  16                       6\n",
              "3       0   23                  16                      77\n",
              "4       0   31                  17                      40"
            ],
            "text/html": [
              "\n",
              "  <div id=\"df-84f12288-acbc-4325-b2ab-263cd85f1a83\">\n",
              "    <div class=\"colab-df-container\">\n",
              "      <div>\n",
              "<style scoped>\n",
              "    .dataframe tbody tr th:only-of-type {\n",
              "        vertical-align: middle;\n",
              "    }\n",
              "\n",
              "    .dataframe tbody tr th {\n",
              "        vertical-align: top;\n",
              "    }\n",
              "\n",
              "    .dataframe thead th {\n",
              "        text-align: right;\n",
              "    }\n",
              "</style>\n",
              "<table border=\"1\" class=\"dataframe\">\n",
              "  <thead>\n",
              "    <tr style=\"text-align: right;\">\n",
              "      <th></th>\n",
              "      <th>Gender</th>\n",
              "      <th>Age</th>\n",
              "      <th>Annual Income (k$)</th>\n",
              "      <th>Spending Score (1-100)</th>\n",
              "    </tr>\n",
              "  </thead>\n",
              "  <tbody>\n",
              "    <tr>\n",
              "      <th>0</th>\n",
              "      <td>1</td>\n",
              "      <td>19</td>\n",
              "      <td>15</td>\n",
              "      <td>39</td>\n",
              "    </tr>\n",
              "    <tr>\n",
              "      <th>1</th>\n",
              "      <td>1</td>\n",
              "      <td>21</td>\n",
              "      <td>15</td>\n",
              "      <td>81</td>\n",
              "    </tr>\n",
              "    <tr>\n",
              "      <th>2</th>\n",
              "      <td>0</td>\n",
              "      <td>20</td>\n",
              "      <td>16</td>\n",
              "      <td>6</td>\n",
              "    </tr>\n",
              "    <tr>\n",
              "      <th>3</th>\n",
              "      <td>0</td>\n",
              "      <td>23</td>\n",
              "      <td>16</td>\n",
              "      <td>77</td>\n",
              "    </tr>\n",
              "    <tr>\n",
              "      <th>4</th>\n",
              "      <td>0</td>\n",
              "      <td>31</td>\n",
              "      <td>17</td>\n",
              "      <td>40</td>\n",
              "    </tr>\n",
              "  </tbody>\n",
              "</table>\n",
              "</div>\n",
              "      <button class=\"colab-df-convert\" onclick=\"convertToInteractive('df-84f12288-acbc-4325-b2ab-263cd85f1a83')\"\n",
              "              title=\"Convert this dataframe to an interactive table.\"\n",
              "              style=\"display:none;\">\n",
              "        \n",
              "  <svg xmlns=\"http://www.w3.org/2000/svg\" height=\"24px\"viewBox=\"0 0 24 24\"\n",
              "       width=\"24px\">\n",
              "    <path d=\"M0 0h24v24H0V0z\" fill=\"none\"/>\n",
              "    <path d=\"M18.56 5.44l.94 2.06.94-2.06 2.06-.94-2.06-.94-.94-2.06-.94 2.06-2.06.94zm-11 1L8.5 8.5l.94-2.06 2.06-.94-2.06-.94L8.5 2.5l-.94 2.06-2.06.94zm10 10l.94 2.06.94-2.06 2.06-.94-2.06-.94-.94-2.06-.94 2.06-2.06.94z\"/><path d=\"M17.41 7.96l-1.37-1.37c-.4-.4-.92-.59-1.43-.59-.52 0-1.04.2-1.43.59L10.3 9.45l-7.72 7.72c-.78.78-.78 2.05 0 2.83L4 21.41c.39.39.9.59 1.41.59.51 0 1.02-.2 1.41-.59l7.78-7.78 2.81-2.81c.8-.78.8-2.07 0-2.86zM5.41 20L4 18.59l7.72-7.72 1.47 1.35L5.41 20z\"/>\n",
              "  </svg>\n",
              "      </button>\n",
              "      \n",
              "  <style>\n",
              "    .colab-df-container {\n",
              "      display:flex;\n",
              "      flex-wrap:wrap;\n",
              "      gap: 12px;\n",
              "    }\n",
              "\n",
              "    .colab-df-convert {\n",
              "      background-color: #E8F0FE;\n",
              "      border: none;\n",
              "      border-radius: 50%;\n",
              "      cursor: pointer;\n",
              "      display: none;\n",
              "      fill: #1967D2;\n",
              "      height: 32px;\n",
              "      padding: 0 0 0 0;\n",
              "      width: 32px;\n",
              "    }\n",
              "\n",
              "    .colab-df-convert:hover {\n",
              "      background-color: #E2EBFA;\n",
              "      box-shadow: 0px 1px 2px rgba(60, 64, 67, 0.3), 0px 1px 3px 1px rgba(60, 64, 67, 0.15);\n",
              "      fill: #174EA6;\n",
              "    }\n",
              "\n",
              "    [theme=dark] .colab-df-convert {\n",
              "      background-color: #3B4455;\n",
              "      fill: #D2E3FC;\n",
              "    }\n",
              "\n",
              "    [theme=dark] .colab-df-convert:hover {\n",
              "      background-color: #434B5C;\n",
              "      box-shadow: 0px 1px 3px 1px rgba(0, 0, 0, 0.15);\n",
              "      filter: drop-shadow(0px 1px 2px rgba(0, 0, 0, 0.3));\n",
              "      fill: #FFFFFF;\n",
              "    }\n",
              "  </style>\n",
              "\n",
              "      <script>\n",
              "        const buttonEl =\n",
              "          document.querySelector('#df-84f12288-acbc-4325-b2ab-263cd85f1a83 button.colab-df-convert');\n",
              "        buttonEl.style.display =\n",
              "          google.colab.kernel.accessAllowed ? 'block' : 'none';\n",
              "\n",
              "        async function convertToInteractive(key) {\n",
              "          const element = document.querySelector('#df-84f12288-acbc-4325-b2ab-263cd85f1a83');\n",
              "          const dataTable =\n",
              "            await google.colab.kernel.invokeFunction('convertToInteractive',\n",
              "                                                     [key], {});\n",
              "          if (!dataTable) return;\n",
              "\n",
              "          const docLinkHtml = 'Like what you see? Visit the ' +\n",
              "            '<a target=\"_blank\" href=https://colab.research.google.com/notebooks/data_table.ipynb>data table notebook</a>'\n",
              "            + ' to learn more about interactive tables.';\n",
              "          element.innerHTML = '';\n",
              "          dataTable['output_type'] = 'display_data';\n",
              "          await google.colab.output.renderOutput(dataTable, element);\n",
              "          const docLink = document.createElement('div');\n",
              "          docLink.innerHTML = docLinkHtml;\n",
              "          element.appendChild(docLink);\n",
              "        }\n",
              "      </script>\n",
              "    </div>\n",
              "  </div>\n",
              "  "
            ]
          },
          "metadata": {},
          "execution_count": 7
        }
      ]
    },
    {
      "cell_type": "code",
      "source": [
        "customers_data.columns"
      ],
      "metadata": {
        "colab": {
          "base_uri": "https://localhost:8080/"
        },
        "id": "GFacBQXjLXL8",
        "outputId": "2a17419b-2a4a-4bec-f7b4-f2cf02a30f69"
      },
      "execution_count": null,
      "outputs": [
        {
          "output_type": "execute_result",
          "data": {
            "text/plain": [
              "Index(['Gender', 'Age', 'Annual Income (k$)', 'Spending Score (1-100)'], dtype='object')"
            ]
          },
          "metadata": {},
          "execution_count": 8
        }
      ]
    },
    {
      "cell_type": "code",
      "source": [
        "from sklearn.decomposition import PCA\n",
        "pca_reducer = PCA(n_components=2)\n",
        "reduced_data = pca_reducer.fit_transform(customers_data)"
      ],
      "metadata": {
        "id": "DnkiKU6XLaNr"
      },
      "execution_count": null,
      "outputs": []
    },
    {
      "cell_type": "code",
      "source": [
        "reduced_data.shape"
      ],
      "metadata": {
        "colab": {
          "base_uri": "https://localhost:8080/"
        },
        "id": "_OyZPEvdLg3V",
        "outputId": "dda6afe3-ce34-41b4-9c2f-83a138ca7546"
      },
      "execution_count": null,
      "outputs": [
        {
          "output_type": "execute_result",
          "data": {
            "text/plain": [
              "(200, 2)"
            ]
          },
          "metadata": {},
          "execution_count": 10
        }
      ]
    },
    {
      "cell_type": "code",
      "source": [
        "reduced_data"
      ],
      "metadata": {
        "colab": {
          "base_uri": "https://localhost:8080/"
        },
        "id": "oWZo2GJ1G5Nv",
        "outputId": "9ad12676-5ae6-4511-f206-7eeaf8e010d9"
      },
      "execution_count": null,
      "outputs": [
        {
          "output_type": "execute_result",
          "data": {
            "text/plain": [
              "array([[-3.18699448e+01, -3.30012521e+01],\n",
              "       [ 7.64494048e-01, -5.68429006e+01],\n",
              "       [-5.74082757e+01, -1.31249607e+01],\n",
              "       [-2.16854252e+00, -5.34785900e+01],\n",
              "       [-3.21740846e+01, -3.03884119e+01],\n",
              "       [-2.17695183e+00, -5.22272685e+01],\n",
              "       [-5.90656895e+01, -9.54376302e+00],\n",
              "       [ 1.23708622e+01, -6.16180208e+01],\n",
              "       [-6.63157690e+01, -3.21423160e+00],\n",
              "       [-5.65556212e+00, -4.72672225e+01],\n",
              "       [-5.82365979e+01, -9.13418751e+00],\n",
              "       [ 1.46218043e+01, -6.21075685e+01],\n",
              "       [-5.51608374e+01, -1.00799251e+01],\n",
              "       [-3.02878330e-03, -5.01140754e+01],\n",
              "       [-5.27646657e+01, -1.16807468e+01],\n",
              "       [ 1.94661180e+00, -5.15222086e+01],\n",
              "       [-3.45055496e+01, -2.37615402e+01],\n",
              "       [-7.30493262e+00, -4.35151138e+01],\n",
              "       [-4.12573070e+01, -1.64734737e+01],\n",
              "       [ 1.61902860e+01, -5.83001207e+01],\n",
              "       [-3.27400141e+01, -2.13347966e+01],\n",
              "       [-9.81885245e-01, -4.44524038e+01],\n",
              "       [-5.78100898e+01, -1.87057486e+00],\n",
              "       [-1.52712624e+00, -4.28582471e+01],\n",
              "       [-5.04819556e+01, -3.56276971e+00],\n",
              "       [ 7.69078091e+00, -4.58600560e+01],\n",
              "       [-3.46329913e+01, -1.50715244e+01],\n",
              "       [-9.94927953e+00, -3.30225018e+01],\n",
              "       [-3.38854915e+01, -1.43440485e+01],\n",
              "       [ 1.33436470e+01, -4.87084876e+01],\n",
              "       [-5.82990002e+01,  4.58029961e+00],\n",
              "       [ 3.30609318e+00, -4.01274983e+01],\n",
              "       [-5.52102909e+01,  6.08873470e+00],\n",
              "       [ 2.05727386e+01, -4.89976354e+01],\n",
              "       [-4.65939553e+01, -1.75635193e-01],\n",
              "       [ 1.13600364e+01, -4.22934898e+01],\n",
              "       [-4.23244634e+01, -2.00566039e+00],\n",
              "       [ 3.95978859e+00, -3.57152924e+01],\n",
              "       [-3.23506471e+01, -5.53131490e+00],\n",
              "       [ 9.18744850e+00, -3.57475306e+01],\n",
              "       [-3.01682815e+01, -6.09009687e+00],\n",
              "       [ 2.23819886e+01, -4.41699255e+01],\n",
              "       [-2.55813682e+01, -8.08036828e+00],\n",
              "       [-2.71818732e+00, -2.46556548e+01],\n",
              "       [-3.20580877e+01, -3.35982914e+00],\n",
              "       [ 1.74869118e+00, -2.78679628e+01],\n",
              "       [-1.04361893e+01, -1.79156325e+01],\n",
              "       [-1.23777865e+01, -1.63365883e+01],\n",
              "       [-1.66857879e+01, -1.32051927e+01],\n",
              "       [-1.70637425e+01, -1.29432699e+01],\n",
              "       [-1.14279946e+01, -1.47081336e+01],\n",
              "       [-2.11661573e+00, -2.13930938e+01],\n",
              "       [-5.86576186e+00, -1.74048397e+01],\n",
              "       [-6.44140255e+00, -1.71797090e+01],\n",
              "       [-1.65304147e+01, -9.75152197e+00],\n",
              "       [-1.91078530e+01, -7.84724924e+00],\n",
              "       [-1.22007224e+01, -1.16816450e+01],\n",
              "       [-1.87466838e+01, -7.02718282e+00],\n",
              "       [-5.70201253e+00, -1.37818367e+01],\n",
              "       [-1.45458017e+01, -7.50578867e+00],\n",
              "       [-9.89832195e+00, -1.10183904e+01],\n",
              "       [-1.04648946e+00, -1.71235274e+01],\n",
              "       [-1.18864721e+01, -8.30888676e+00],\n",
              "       [-3.92770171e+00, -1.40286469e+01],\n",
              "       [-1.13282822e+01, -7.44887080e+00],\n",
              "       [ 3.46377080e+00, -1.79332904e+01],\n",
              "       [-8.33441304e+00, -9.49578304e+00],\n",
              "       [-1.46308641e+01, -5.07395882e+00],\n",
              "       [ 3.27479351e+00, -1.78023290e+01],\n",
              "       [-8.61369094e+00, -9.21467482e+00],\n",
              "       [-8.91846305e+00, -8.01933089e+00],\n",
              "       [-1.47897744e+01, -3.57239266e+00],\n",
              "       [-1.11557908e+01, -5.07876799e+00],\n",
              "       [-5.65372529e+00, -9.09602989e+00],\n",
              "       [-1.01846740e+01, -8.26808341e-01],\n",
              "       [ 1.55364218e+00, -9.16579658e+00],\n",
              "       [-2.82260299e+00, -6.10521405e+00],\n",
              "       [-5.80809610e+00, -3.88896958e+00],\n",
              "       [ 5.48888047e-01, -8.41247039e+00],\n",
              "       [-1.22246152e+01,  7.31471686e-01],\n",
              "       [-6.66268195e+00, -3.38430938e+00],\n",
              "       [ 7.19240500e-02, -8.16815429e+00],\n",
              "       [-1.64125485e+01,  3.66425023e+00],\n",
              "       [-1.00856646e+01, -8.09201640e-01],\n",
              "       [ 4.85688946e+00, -1.15438660e+01],\n",
              "       [-8.89193316e+00, -1.69348923e+00],\n",
              "       [ 9.83539194e-01, -5.23990787e+00],\n",
              "       [ 4.86176170e+00, -7.83995054e+00],\n",
              "       [ 7.11270380e+00, -8.32949817e+00],\n",
              "       [-6.91506399e+00,  1.80040810e+00],\n",
              "       [-2.65394818e+00, -1.98949328e-01],\n",
              "       [-4.20954748e+00,  1.28908296e+00],\n",
              "       [-3.00216853e+00,  1.43515694e+00],\n",
              "       [-8.56410176e+00,  5.55093801e+00],\n",
              "       [-5.48026470e+00,  3.35545766e+00],\n",
              "       [ 3.89131456e+00, -3.42960043e+00],\n",
              "       [-4.38487724e+00,  2.45040594e+00],\n",
              "       [ 1.75269668e+00, -1.89050582e+00],\n",
              "       [-7.91561133e+00,  6.26080715e+00],\n",
              "       [ 2.87781838e+00, -1.42337407e+00],\n",
              "       [-3.38823294e+00,  4.36747619e+00],\n",
              "       [-2.79957694e+00,  3.75521081e+00],\n",
              "       [ 2.44460212e+00, -1.98745323e-01],\n",
              "       [ 7.04863359e+00, -3.27258468e+00],\n",
              "       [ 3.48816526e+00, -8.34366932e-01],\n",
              "       [-2.22426899e+00,  3.53165883e+00],\n",
              "       [-3.85154940e+00,  5.64215388e+00],\n",
              "       [-4.72819210e+00,  6.36777396e+00],\n",
              "       [-9.73190228e+00,  9.92291729e+00],\n",
              "       [-5.42390087e+00,  6.79152170e+00],\n",
              "       [-2.09088611e+00,  4.36498207e+00],\n",
              "       [ 8.17442075e+00, -2.80861035e+00],\n",
              "       [-4.25963743e+00,  7.37477932e+00],\n",
              "       [ 2.47463584e+00,  2.59251312e+00],\n",
              "       [ 4.82458735e+00,  2.12057220e+00],\n",
              "       [ 6.20762879e+00,  1.10374449e+00],\n",
              "       [-7.60943758e+00,  1.08833082e+01],\n",
              "       [ 7.61239435e+00, -1.32464390e-01],\n",
              "       [-4.16446458e+00,  1.09285479e+01],\n",
              "       [ 7.02864384e+00,  2.76306274e+00],\n",
              "       [ 1.05887794e+01,  3.26423711e-01],\n",
              "       [-4.06578789e+00,  1.09477334e+01],\n",
              "       [ 1.08816716e+01,  2.49633076e+00],\n",
              "       [ 3.70086253e+01, -1.65715723e+01],\n",
              "       [-8.11136329e+00,  1.77213173e+01],\n",
              "       [ 2.81052680e+01, -8.77793015e+00],\n",
              "       [-6.58656288e+00,  1.77071451e+01],\n",
              "       [ 4.11409310e+01, -1.71194125e+01],\n",
              "       [-2.84744243e+01,  3.35759969e+01],\n",
              "       [ 2.57986982e+01, -5.90344419e+00],\n",
              "       [-2.77787156e+01,  3.31522492e+01],\n",
              "       [ 2.56097209e+01, -5.77248278e+00],\n",
              "       [-3.38202552e+00,  1.67305440e+01],\n",
              "       [ 2.45664573e+01, -3.71778619e+00],\n",
              "       [-2.46431207e+01,  3.35286461e+01],\n",
              "       [ 3.88951938e+01, -1.29275282e+01],\n",
              "       [-2.76062242e+01,  3.55223520e+01],\n",
              "       [ 2.65377888e+01, -3.92464688e+00],\n",
              "       [-1.99354738e+01,  3.13366002e+01],\n",
              "       [ 2.57738030e+01, -2.15105852e+00],\n",
              "       [-3.04577022e+01,  3.99894160e+01],\n",
              "       [ 4.34352216e+01, -1.37857614e+01],\n",
              "       [ 3.12158982e+00,  1.69136141e+01],\n",
              "       [ 3.93081209e+01, -9.53558446e+00],\n",
              "       [-1.77314505e+01,  3.33997445e+01],\n",
              "       [ 4.85124137e+01, -1.49884086e+01],\n",
              "       [-3.21370344e+00,  2.26383874e+01],\n",
              "       [ 2.96786219e+01, -1.26656692e+00],\n",
              "       [-1.09831970e+01,  2.96462611e+01],\n",
              "       [ 4.24651072e+01, -9.37699000e+00],\n",
              "       [-1.66143722e+01,  3.36959653e+01],\n",
              "       [ 3.99482020e+01, -7.57439386e+00],\n",
              "       [-1.44449887e+01,  3.21036643e+01],\n",
              "       [ 3.07053996e+01, -8.20199299e-01],\n",
              "       [-1.81559580e+01,  3.47921267e+01],\n",
              "       [ 4.30022716e+01, -9.72140398e+00],\n",
              "       [-2.80566583e+01,  4.20925098e+01],\n",
              "       [ 3.37892367e+01, -3.01567965e+00],\n",
              "       [-2.74897264e+01,  4.16996255e+01],\n",
              "       [ 2.98591898e+01, -1.46206864e-01],\n",
              "       [-4.33395289e+00,  2.58751711e+01],\n",
              "       [ 3.84968836e+01, -5.20772553e+00],\n",
              "       [-1.97451613e+01,  3.98647912e+01],\n",
              "       [ 4.71562681e+01, -9.06797167e+00],\n",
              "       [-6.74276964e+00,  3.51063622e+01],\n",
              "       [ 3.44177041e+01,  5.15049060e+00],\n",
              "       [-9.35838475e+00,  3.83104267e+01],\n",
              "       [ 5.12934461e+01, -5.91189643e+00],\n",
              "       [-2.13349996e+00,  3.43142059e+01],\n",
              "       [ 2.69184137e+01,  1.31317350e+01],\n",
              "       [-1.38938730e+01,  4.28741541e+01],\n",
              "       [ 3.71064352e+01,  5.72115470e+00],\n",
              "       [-1.54959919e+01,  4.40719921e+01],\n",
              "       [ 4.89567761e+01, -2.98736153e+00],\n",
              "       [-1.55726450e+01,  4.52525005e+01],\n",
              "       [ 4.59635392e+01,  4.77046978e-01],\n",
              "       [-1.51348227e+01,  4.48920585e+01],\n",
              "       [ 3.31679791e+01,  9.84194894e+00],\n",
              "       [-1.31666956e+01,  4.96388560e+01],\n",
              "       [ 5.11054712e+01,  2.87979602e+00],\n",
              "       [ 7.49379714e+00,  3.96595776e+01],\n",
              "       [ 5.08831894e+01,  8.01446456e+00],\n",
              "       [-6.98086768e+00,  5.14044048e+01],\n",
              "       [ 5.36107627e+01,  7.28217954e+00],\n",
              "       [ 1.34171991e+01,  3.77829380e+01],\n",
              "       [ 6.10841598e+01,  3.05805695e+00],\n",
              "       [ 3.47599286e-01,  4.97106312e+01],\n",
              "       [ 3.98450882e+01,  2.10558529e+01],\n",
              "       [-1.52051598e+00,  5.36421714e+01],\n",
              "       [ 5.28730074e+01,  1.39625346e+01],\n",
              "       [ 4.51838126e+00,  4.92820743e+01],\n",
              "       [ 4.10527667e+01,  2.26210019e+01],\n",
              "       [-1.19688712e+00,  6.58449930e+01],\n",
              "       [ 6.30973366e+01,  1.88649731e+01],\n",
              "       [ 6.56619775e+00,  6.87444357e+01],\n",
              "       [ 5.83525153e+01,  3.10175417e+01],\n",
              "       [ 1.99080013e+01,  6.64461080e+01],\n",
              "       [ 5.85208042e+01,  3.83460389e+01],\n",
              "       [ 2.09791300e+01,  7.93764054e+01],\n",
              "       [ 7.24476934e+01,  4.18113364e+01]])"
            ]
          },
          "metadata": {},
          "execution_count": 13
        }
      ]
    },
    {
      "cell_type": "code",
      "source": [
        "from sklearn.cluster import KMeans"
      ],
      "metadata": {
        "id": "_s8tfNe1Lji8"
      },
      "execution_count": null,
      "outputs": []
    },
    {
      "cell_type": "code",
      "source": [
        "km = KMeans(n_clusters=5)"
      ],
      "metadata": {
        "id": "yRT2Tuy0LmbA"
      },
      "execution_count": null,
      "outputs": []
    },
    {
      "cell_type": "code",
      "source": [
        "cluster = km.fit(reduced_data)"
      ],
      "metadata": {
        "id": "RXaRch2JLoc6"
      },
      "execution_count": null,
      "outputs": []
    },
    {
      "cell_type": "code",
      "source": [
        "plt.scatter(reduced_data[:, 0], reduced_data[:, 1], label='Datapoints')\n",
        "plt.scatter(cluster.cluster_centers_[:, 0], cluster.cluster_centers_[:, 1], label='Clusters')\n",
        "plt.title(\"Sklearn version of KMeans\")\n",
        "plt.legend()\n",
        "plt.show()"
      ],
      "metadata": {
        "colab": {
          "base_uri": "https://localhost:8080/",
          "height": 281
        },
        "id": "WxEd_aJbLqwY",
        "outputId": "792ef45c-3e0b-452b-809d-10bf3906566e"
      },
      "execution_count": null,
      "outputs": [
        {
          "output_type": "display_data",
          "data": {
            "text/plain": [
              "<Figure size 432x288 with 1 Axes>"
            ],
            "image/png": "[encoded data removed]"
          },
          "metadata": {
            "needs_background": "light"
          }
        }
      ]
    }
  ]
}